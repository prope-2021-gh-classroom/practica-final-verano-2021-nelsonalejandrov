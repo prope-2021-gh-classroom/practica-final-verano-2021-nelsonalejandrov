{
 "cells": [
  {
   "cell_type": "markdown",
   "id": "f2706dda-c2ce-41df-940c-8ecb3aa36e54",
   "metadata": {},
   "source": [
    "# Práctica Final, Equipo 3.\n",
    "#### Nelson \n",
    "#### Miguel Castañeda\n",
    "\n",
    "### Base de datos: Red Wine Quality\n",
    "Fuentes: [Red Wine Quality](https://www.kaggle.com/uciml/red-wine-quality-cortez-et-al-2009)\n",
    "\n",
    "La base de datos está relacionada con las variantes rojo y blanco del vino portugués [Vinho Verde](https://www.vinhoverde.pt/en/about-vinho-verde). Esta base de datos únicamente contiene variables de tipo fisicoquímico, y su salida es una única variable sensorial que representa la calidad, medida del $(1, 10)$.\n",
    "\n",
    "De acuerdo con el fabricante, este vino únicamente se produce en la región Vinho Verde al noreste de Portugal, ya que se produce únicamente con las especies endémicas de uva que existen en la zona, preservando su sabor y aroma como uno de los más únicos en el mundo.\n",
    "\n",
    "**Objetivo:**<br>\n",
    "> Identificar las variables de mayor capacidad explicativa para el modelo de calidad de vino\n",
    "> Hacer un modelo que permita comprender el impacto de cada variable en la calidad del vino"
   ]
  },
  {
   "cell_type": "markdown",
   "id": "3117d2c6-c970-4b29-852f-d38bb2ea01ea",
   "metadata": {},
   "source": [
    "### Descripción de la base de datos:\n",
    "Tamaño de la base: $(1599, 12)$\n",
    "\n",
    "Variables de la base:\n",
    "* Fixed Acidity $\\in (4.6, 15.9)$, `float`: Conjunto de los ácidos naturales procedentes de la uva.\n",
    "* Volatile Acidity $\\in (0.12, 1.58)$, `float`: Conjunto de los ácidos formados durante la fermentación o como consecuencia de alteraciones microbianas.\n",
    "* Citric Acidity $\\in (0, 1)$, `float`: Referente a los suplementos ácidos derivados de la fermentación de soluciones de sacarosa.\n",
    "* Residual Sugar $\\in (0.9, 15.5)$, `float`: Azúcares naturales residuales propios de la uva.\n",
    "* Chlorides $\\in (0.12, 0.611)$, `float`: Típicamente cloruro de sodio.\n",
    "* Free Sulfure Dioxide $\\in (1, 72)$, `int`\n",
    "* Total Sulfure Dioxide $\\in (6, 289)$, `int`\n",
    "* Density $\\in (0.99007, 1.00369)$, `float`: Densidad del vino en $[g/cm^3]$.\n",
    "* pH $\\in (2.74, 4.01)$, `float`: pH del vino, se mantiene dentro del rango de una sustancia ácida.\n",
    "* Sulphates $\\in (0.33, 2)$, `float`: Típicamente debido a pesticidas usados para el cultivo de la vid.\n",
    "* Alcohol $\\in (8.4, 14.9)$, `float`: Porcentaje de alcohol.\n",
    "* Quality $\\in (3, 8)$, `int`: Medida de calidad del vino. \n",
    "\n",
    "<b>Referencias adicionales:</b><br>\n",
    "[Diccionario del vino](http://www.diccionariodelvino.com/index.php/acidez-fija/)<br>\n",
    "[Ácidos en el vino](https://es.wikipedia.org/wiki/%C3%81cidos_en_el_vino#Otros_%C3%A1cidos)<br>\n",
    "[Sulfatos en el vino](http://www.acenologia.com/cienciaytecnologia/azufre_seguridad_vinos_ecologicos_cienc173_1219.htm)"
   ]
  },
  {
   "cell_type": "code",
   "execution_count": null,
   "id": "28d220d6-d61c-4b37-ac9f-1e324f724564",
   "metadata": {},
   "outputs": [],
   "source": []
  }
 ],
 "metadata": {
  "kernelspec": {
   "display_name": "R",
   "language": "R",
   "name": "ir"
  },
  "language_info": {
   "codemirror_mode": "r",
   "file_extension": ".r",
   "mimetype": "text/x-r-source",
   "name": "R",
   "pygments_lexer": "r",
   "version": "4.1.0"
  }
 },
 "nbformat": 4,
 "nbformat_minor": 5
}
