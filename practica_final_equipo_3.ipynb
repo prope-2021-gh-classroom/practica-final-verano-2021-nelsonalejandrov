{
 "cells": [
  {
   "cell_type": "markdown",
   "id": "f2706dda-c2ce-41df-940c-8ecb3aa36e54",
   "metadata": {},
   "source": [
    "# Práctica Final, Equipo 3.\n",
    "#### Nelson \n",
    "#### Miguel Castañeda\n",
    "\n",
    "### Base de datos: Red Wine Quality\n",
    "Fuente: [Red Wine Quality](https://www.kaggle.com/uciml/red-wine-quality-cortez-et-al-2009)"
   ]
  },
  {
   "cell_type": "markdown",
   "id": "3117d2c6-c970-4b29-852f-d38bb2ea01ea",
   "metadata": {},
   "source": [
    "### Descripción de la base de datos:\n",
    "Variables de la base:\n",
    "* Fixed Acidity: \n",
    "* Volatile Acidity:\n",
    "* Citric Acidity:\n",
    "* Chlorides:\n",
    "* Free Sulfure Dioxide:\n",
    "* total Suldure Dioxide:\n",
    "* Density:\n",
    "* pH:\n",
    "* Sulphates:\n",
    "* Alcohol:\n",
    "* Quality:"
   ]
  },
  {
   "cell_type": "code",
   "execution_count": null,
   "id": "28d220d6-d61c-4b37-ac9f-1e324f724564",
   "metadata": {},
   "outputs": [],
   "source": []
  }
 ],
 "metadata": {
  "kernelspec": {
   "display_name": "R",
   "language": "R",
   "name": "ir"
  },
  "language_info": {
   "codemirror_mode": "r",
   "file_extension": ".r",
   "mimetype": "text/x-r-source",
   "name": "R",
   "pygments_lexer": "r",
   "version": "4.1.0"
  }
 },
 "nbformat": 4,
 "nbformat_minor": 5
}
